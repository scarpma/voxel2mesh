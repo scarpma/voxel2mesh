{
 "cells": [
  {
   "cell_type": "code",
   "execution_count": 2,
   "id": "22f2b2d1",
   "metadata": {},
   "outputs": [
    {
     "name": "stdout",
     "output_type": "stream",
     "text": [
      "<__main__.SegmentationDataset object at 0x7fdaab303df0>: 33 general series\n",
      "{'x': tensor([[[[ 1.9000e+01,  3.1690e+01,  3.1549e+01,  ...,  5.8655e+01,\n",
      "            6.8102e+01,  7.2000e+01],\n",
      "          [-5.7085e+00,  8.3550e+00,  1.4037e+01,  ...,  7.3005e+01,\n",
      "            6.3510e+01,  5.4831e+01],\n",
      "          [-1.7646e+01,  1.5556e+00,  1.0227e+01,  ...,  7.6085e+01,\n",
      "            5.9462e+01,  5.4677e+01],\n",
      "          ...,\n",
      "          [-2.0000e+02, -2.0000e+02, -2.0000e+02,  ..., -2.0000e+02,\n",
      "           -2.0000e+02, -2.0000e+02],\n",
      "          [-2.0000e+02, -2.0000e+02, -2.0000e+02,  ..., -2.0000e+02,\n",
      "           -2.0000e+02, -2.0000e+02],\n",
      "          [-2.0000e+02, -2.0000e+02, -2.0000e+02,  ..., -2.0000e+02,\n",
      "           -2.0000e+02, -2.0000e+02]],\n",
      "\n",
      "         [[ 2.6360e+01,  2.6519e+01,  1.9354e+01,  ...,  4.5590e+01,\n",
      "            5.2058e+01,  4.8047e+01],\n",
      "          [ 2.0751e+00,  2.4540e+00, -6.9382e-01,  ...,  4.8180e+01,\n",
      "            4.5466e+01,  3.0927e+01],\n",
      "          [-1.1067e+01, -7.4008e+00, -7.5836e+00,  ...,  4.8943e+01,\n",
      "            4.0292e+01,  2.5136e+01],\n",
      "          ...,\n",
      "          [-2.0000e+02, -2.0000e+02, -2.0000e+02,  ..., -2.0000e+02,\n",
      "           -2.0000e+02, -2.0000e+02],\n",
      "          [-2.0000e+02, -2.0000e+02, -2.0000e+02,  ..., -2.0000e+02,\n",
      "           -2.0000e+02, -2.0000e+02],\n",
      "          [-2.0000e+02, -2.0000e+02, -2.0000e+02,  ..., -2.0000e+02,\n",
      "           -2.0000e+02, -2.0000e+02]],\n",
      "\n",
      "         [[ 2.8512e+01,  3.0921e+01,  2.7915e+01,  ..., -8.2087e-02,\n",
      "            8.2096e+00, -5.0679e+00],\n",
      "          [ 2.2721e+01,  2.2494e+01,  1.5789e+01,  ..., -2.7019e+00,\n",
      "            3.6746e+00, -1.3146e+01],\n",
      "          [ 1.4642e+01,  9.8646e+00,  7.7731e-01,  ..., -2.8783e+00,\n",
      "           -4.5441e+00, -2.5315e+01],\n",
      "          ...,\n",
      "          [-2.0000e+02, -2.0000e+02, -2.0000e+02,  ..., -2.0000e+02,\n",
      "           -2.0000e+02, -2.0000e+02],\n",
      "          [-2.0000e+02, -2.0000e+02, -2.0000e+02,  ..., -2.0000e+02,\n",
      "           -2.0000e+02, -2.0000e+02],\n",
      "          [-2.0000e+02, -2.0000e+02, -2.0000e+02,  ..., -2.0000e+02,\n",
      "           -2.0000e+02, -2.0000e+02]],\n",
      "\n",
      "         ...,\n",
      "\n",
      "         [[-2.0000e+02, -2.0000e+02, -2.0000e+02,  ..., -2.0000e+02,\n",
      "           -2.0000e+02, -2.0000e+02],\n",
      "          [-2.0000e+02, -2.0000e+02, -2.0000e+02,  ..., -2.0000e+02,\n",
      "           -2.0000e+02, -2.0000e+02],\n",
      "          [-2.0000e+02, -2.0000e+02, -2.0000e+02,  ..., -2.0000e+02,\n",
      "           -2.0000e+02, -2.0000e+02],\n",
      "          ...,\n",
      "          [ 1.1196e+01,  2.6575e+01,  3.9437e+01,  ...,  4.9394e+01,\n",
      "            4.5908e+01,  5.7992e+01],\n",
      "          [-1.0264e+01, -3.1607e+00,  1.7041e+01,  ...,  2.9614e+01,\n",
      "            4.0281e+01,  4.8031e+01],\n",
      "          [ 4.9765e+00,  6.2607e+00,  2.1050e+01,  ...,  1.7015e+01,\n",
      "            3.3522e+01,  2.6768e+01]],\n",
      "\n",
      "         [[-2.0000e+02, -2.0000e+02, -2.0000e+02,  ..., -2.0000e+02,\n",
      "           -2.0000e+02, -2.0000e+02],\n",
      "          [-2.0000e+02, -2.0000e+02, -2.0000e+02,  ..., -2.0000e+02,\n",
      "           -2.0000e+02, -2.0000e+02],\n",
      "          [-2.0000e+02, -2.0000e+02, -2.0000e+02,  ..., -2.0000e+02,\n",
      "           -2.0000e+02, -2.0000e+02],\n",
      "          ...,\n",
      "          [ 1.8292e+01,  2.8844e+01,  4.8688e+01,  ...,  5.6057e+01,\n",
      "            5.6787e+01,  5.8492e+01],\n",
      "          [-6.0535e+00, -3.1337e+00,  1.8507e+01,  ...,  2.2751e+01,\n",
      "            4.6376e+01,  5.2098e+01],\n",
      "          [-1.0444e-01,  1.9768e+00,  1.4139e+01,  ...,  4.8394e+00,\n",
      "            2.6049e+01,  3.4384e+01]],\n",
      "\n",
      "         [[-2.0000e+02, -2.0000e+02,  4.8824e+00,  ..., -2.0000e+02,\n",
      "           -2.0000e+02, -2.0000e+02],\n",
      "          [-2.0000e+02, -2.0000e+02, -1.3585e+02,  ..., -2.0000e+02,\n",
      "           -2.0000e+02, -2.0000e+02],\n",
      "          [-2.0000e+02, -2.0000e+02, -2.0000e+02,  ..., -2.0000e+02,\n",
      "           -2.0000e+02, -2.0000e+02],\n",
      "          ...,\n",
      "          [ 3.8740e+01,  3.6709e+01,  4.2357e+01,  ...,  5.9577e+01,\n",
      "            6.1586e+01,  6.0276e+01],\n",
      "          [ 2.7354e+01,  1.8109e+01,  1.9158e+01,  ...,  3.7969e+01,\n",
      "            5.4345e+01,  6.0677e+01],\n",
      "          [ 2.8000e+01,  1.6137e+01,  1.2345e+01,  ...,  2.1549e+01,\n",
      "            3.1620e+01,  4.2000e+01]]]]), 'y_voxels': tensor([[[False, False, False,  ..., False, False, False],\n",
      "         [False, False, False,  ..., False, False, False],\n",
      "         [False, False, False,  ..., False, False, False],\n",
      "         ...,\n",
      "         [False, False, False,  ..., False, False, False],\n",
      "         [False, False, False,  ..., False, False, False],\n",
      "         [False, False, False,  ..., False, False, False]],\n",
      "\n",
      "        [[False, False, False,  ..., False, False, False],\n",
      "         [False, False, False,  ..., False, False, False],\n",
      "         [False, False, False,  ..., False, False, False],\n",
      "         ...,\n",
      "         [False, False, False,  ..., False, False, False],\n",
      "         [False, False, False,  ..., False, False, False],\n",
      "         [False, False, False,  ..., False, False, False]],\n",
      "\n",
      "        [[False, False, False,  ..., False, False, False],\n",
      "         [False, False, False,  ..., False, False, False],\n",
      "         [False, False, False,  ..., False, False, False],\n",
      "         ...,\n",
      "         [False, False, False,  ..., False, False, False],\n",
      "         [False, False, False,  ..., False, False, False],\n",
      "         [False, False, False,  ..., False, False, False]],\n",
      "\n",
      "        ...,\n",
      "\n",
      "        [[False, False, False,  ..., False, False, False],\n",
      "         [False, False, False,  ..., False, False, False],\n",
      "         [False, False, False,  ..., False, False, False],\n",
      "         ...,\n",
      "         [False, False, False,  ..., False, False, False],\n",
      "         [False, False, False,  ..., False, False, False],\n",
      "         [False, False, False,  ..., False, False, False]],\n",
      "\n",
      "        [[False, False, False,  ..., False, False, False],\n",
      "         [False, False, False,  ..., False, False, False],\n",
      "         [False, False, False,  ..., False, False, False],\n",
      "         ...,\n",
      "         [False, False, False,  ..., False, False, False],\n",
      "         [False, False, False,  ..., False, False, False],\n",
      "         [False, False, False,  ..., False, False, False]],\n",
      "\n",
      "        [[False, False, False,  ..., False, False, False],\n",
      "         [False, False, False,  ..., False, False, False],\n",
      "         [False, False, False,  ..., False, False, False],\n",
      "         ...,\n",
      "         [False, False, False,  ..., False, False, False],\n",
      "         [False, False, False,  ..., False, False, False],\n",
      "         [False, False, False,  ..., False, False, False]]]), 'surface_points': tensor([[-0.2167, -0.3368, -0.4360],\n",
      "        [-0.2533,  0.2428, -0.4308],\n",
      "        [-0.4621, -0.4204, -0.5927],\n",
      "        ...,\n",
      "        [-0.3995, -0.4360, -0.7337],\n",
      "        [-0.5770, -0.5822,  0.6345],\n",
      "        [-0.5927, -0.4204,  0.7963]]), 'unpool': [0, 1, 0, 1, 0]}\n",
      "tensor(1.)\n"
     ]
    }
   ],
   "source": [
    "%run dsets.py"
   ]
  },
  {
   "cell_type": "code",
   "execution_count": 5,
   "id": "0a8c801c",
   "metadata": {},
   "outputs": [],
   "source": [
    "import pyvista as pv"
   ]
  },
  {
   "cell_type": "code",
   "execution_count": 9,
   "id": "e8adbbe7",
   "metadata": {},
   "outputs": [],
   "source": [
    "y_vol = a['y_voxels']\n",
    "points = a['surface_points']\n",
    "points_ = points.detach().cpu().numpy()\n",
    "pv.PolyData(points_).save('prova.vtk')"
   ]
  },
  {
   "cell_type": "code",
   "execution_count": 40,
   "id": "7819bf09",
   "metadata": {},
   "outputs": [
    {
     "data": {
      "text/plain": [
       "torch.Size([384, 320, 256])"
      ]
     },
     "execution_count": 40,
     "metadata": {},
     "output_type": "execute_result"
    }
   ],
   "source": [
    "a.shape"
   ]
  },
  {
   "cell_type": "code",
   "execution_count": 39,
   "id": "3555c208",
   "metadata": {},
   "outputs": [
    {
     "data": {
      "text/plain": [
       "torch.Size([1152, 320, 256])"
      ]
     },
     "execution_count": 39,
     "metadata": {},
     "output_type": "execute_result"
    }
   ],
   "source": [
    "torch.cat([a, b, c], dim=0).shape"
   ]
  },
  {
   "cell_type": "code",
   "execution_count": 44,
   "id": "0ebb17c9",
   "metadata": {},
   "outputs": [],
   "source": [
    "volume = y_vol\n",
    "shape = torch.tensor(y_vol.shape)[None].float()\n",
    "\n",
    "a = F.max_pool3d(volume[None, None].float(),\n",
    "                 kernel_size=(3, 1, 1),\n",
    "                 stride=1,\n",
    "                 padding=(1, 0, 0))[0]\n",
    "b = F.max_pool3d(volume[None, None].float(),\n",
    "                 kernel_size=(1, 3, 1),\n",
    "                 stride=1,\n",
    "                 padding=(0, 1, 0))[0]\n",
    "c = F.max_pool3d(volume[None, None].float(),\n",
    "                 kernel_size=(1, 1, 3),\n",
    "                 stride=1,\n",
    "                 padding=(0, 0, 1))[0]\n",
    "border, _ = torch.max(torch.cat([a, b, c], dim=0), dim=0)\n",
    "surface = border - volume.float()\n",
    "surface_points = torch.nonzero(surface)\n",
    "surface_points = torch.flip(\n",
    "    surface_points, dims=[1]).float()  # convert z,y,x -> x, y, z\n",
    "surface_points_norm = normalize_vertices(surface_points, shape)"
   ]
  },
  {
   "cell_type": "code",
   "execution_count": 47,
   "id": "a365a79e",
   "metadata": {},
   "outputs": [],
   "source": [
    "pv.PolyData(surface_points_norm.detach().cpu().numpy()).save('prova.vtk')"
   ]
  },
  {
   "cell_type": "code",
   "execution_count": 32,
   "id": "a1f738e3",
   "metadata": {},
   "outputs": [
    {
     "name": "stdout",
     "output_type": "stream",
     "text": [
      "torch.Size([4802628])\n",
      "torch.Size([17069])\n"
     ]
    }
   ],
   "source": [
    "b = (border - volume.float())\n",
    "print(b[b==1].size())\n",
    "print(border[border==1].size())"
   ]
  },
  {
   "cell_type": "code",
   "execution_count": null,
   "id": "3895514f",
   "metadata": {},
   "outputs": [],
   "source": []
  }
 ],
 "metadata": {
  "kernelspec": {
   "display_name": "Python 3",
   "language": "python",
   "name": "python3"
  },
  "language_info": {
   "codemirror_mode": {
    "name": "ipython",
    "version": 3
   },
   "file_extension": ".py",
   "mimetype": "text/x-python",
   "name": "python",
   "nbconvert_exporter": "python",
   "pygments_lexer": "ipython3",
   "version": "3.8.12"
  }
 },
 "nbformat": 4,
 "nbformat_minor": 5
}
